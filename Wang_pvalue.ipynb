{
 "cells": [
  {
   "cell_type": "code",
   "execution_count": 7,
   "id": "2bf1d3d3-ab6e-4d34-a190-c1f27ab081d4",
   "metadata": {
    "jupyter": {
     "source_hidden": true
    }
   },
   "outputs": [
    {
     "name": "stdout",
     "output_type": "stream",
     "text": [
      "已完成\n"
     ]
    }
   ],
   "source": [
    "from openpyxl import load_workbook\n",
    "file_path=\"data/match.xlsx\"\n",
    "wb=load_workbook(file_path)\n",
    "ws=wb.active\n",
    "for col,value in enumerate(range(1,94),start=3):\n",
    "    ws.cell(row=1,column=col,value=value)\n",
    "wb.save(\"match_modified.xlsx\")\n",
    "print(\"已完成\")"
   ]
  },
  {
   "cell_type": "code",
   "execution_count": 8,
   "id": "56bcceaa-3a5e-4e14-9182-963ead9f4743",
   "metadata": {
    "jupyter": {
     "source_hidden": true
    }
   },
   "outputs": [
    {
     "name": "stdout",
     "output_type": "stream",
     "text": [
      "已完成\n"
     ]
    }
   ],
   "source": [
    "import random\n",
    "import string \n",
    "from openpyxl import load_workbook\n",
    "def random_str(length=4):\n",
    "    chars=string.ascii_letters+string.digits\n",
    "    return ''.join(random.choice(chars)for _ in range(length))\n",
    "file_path=\"data/match_modified.xlsx\"\n",
    "wb=load_workbook(file_path)\n",
    "ws=wb.active\n",
    "for row in range(2,ws.max_row+1):\n",
    "    ws.cell(row=row,column=2,value=random_str(4))\n",
    "wb.save(\"final_match_modified.xlsx\")\n",
    "print(\"已完成\")"
   ]
  },
  {
   "cell_type": "code",
   "execution_count": 9,
   "id": "1992b350-e142-48d1-a436-f7496127acde",
   "metadata": {
    "jupyter": {
     "source_hidden": true
    }
   },
   "outputs": [
    {
     "name": "stdout",
     "output_type": "stream",
     "text": [
      "已完成\n"
     ]
    }
   ],
   "source": [
    "from openpyxl import load_workbook\n",
    "file_path=\"data/all.xlsx\"\n",
    "wb=load_workbook(file_path)\n",
    "ws=wb.active\n",
    "for col,value in enumerate(range(1,94),start=3):\n",
    "    ws.cell(row=1,column=col,value=value)\n",
    "wb.save(\"all_modified.xlsx\")\n",
    "print(\"已完成\")"
   ]
  },
  {
   "cell_type": "code",
   "execution_count": 11,
   "id": "c6a22f54-5862-431a-98d8-0c5b9a0678ec",
   "metadata": {
    "jupyter": {
     "source_hidden": true
    }
   },
   "outputs": [
    {
     "name": "stdout",
     "output_type": "stream",
     "text": [
      "已完成\n"
     ]
    }
   ],
   "source": [
    "import random\n",
    "import string \n",
    "from openpyxl import load_workbook\n",
    "def random_str(length=4):\n",
    "    chars=string.ascii_letters+string.digits\n",
    "    return ''.join(random.choice(chars)for _ in range(length))\n",
    "file_path=\"data/all_modified.xlsx\"\n",
    "wb=load_workbook(file_path)\n",
    "ws=wb.active\n",
    "for row in range(2,ws.max_row+1):\n",
    "    ws.cell(row=row,column=2,value=random_str(4))\n",
    "wb.save(\"final_all_modified.xlsx\")\n",
    "print(\"已完成\")"
   ]
  },
  {
   "cell_type": "code",
   "execution_count": 35,
   "id": "a0ab5738-5bf5-422a-86b2-c351ce67e5f5",
   "metadata": {
    "jupyter": {
     "source_hidden": true
    }
   },
   "outputs": [
    {
     "name": "stdout",
     "output_type": "stream",
     "text": [
      "完成 ✅：p 值已写入最后一行，行名为 'p-value'，保存为 data_with_pvalues.xlsx\n"
     ]
    }
   ],
   "source": [
    "import pandas as pd\n",
    "from scipy.stats import f_oneway\n",
    "from openpyxl import load_workbook\n",
    "from openpyxl.styles import Font,PatternFill\n",
    "import numpy as np\n",
    "\n",
    "file_path=\"data/match.xlsx\"\n",
    "\n",
    "df=pd.read_excel(file_path)\n",
    "df_numeric = df.apply(pd.to_numeric, errors='coerce')\n",
    "\n",
    "group1=df_numeric.iloc[1:14,:]\n",
    "group2=df_numeric.iloc[14:31,:]\n",
    "group3=df_numeric.iloc[31:59,:]\n",
    "\n",
    "\n",
    "'''      \n",
    "p_values={}\n",
    "for col in df.columns:\n",
    "    g1=group1[col].dropna()\n",
    "    g2=group2[col].dropna()\n",
    "    g3= group3[col].dropna()\n",
    "    if len(g1)>=2 and len(g2)>=2 and len(3)>=2:\n",
    "       f_stat,p_val=f_oneway(g1,g2,g3)\n",
    "       p_values[col]=round(p_val,5)\n",
    "    else: \n",
    "       p_values[col]=np.nan\n",
    "'''\n",
    "p_values = {}\n",
    "for col in df.columns:\n",
    "    # 强制取出为 Series\n",
    "    g1 = group1[[col]].squeeze().dropna()\n",
    "    g2 = group2[[col]].squeeze().dropna()\n",
    "    g3 = group3[[col]].squeeze().dropna()\n",
    "\n",
    "    # 判断每组至少有2个样本\n",
    "    if len(g1) >= 2 and len(g2) >= 2 and len(g3) >= 2:\n",
    "        f_stat, p_val = f_oneway(g1, g2, g3)\n",
    "        p_values[col] = round(p_val, 5)\n",
    "    else:\n",
    "        p_values[col] = np.nan  # 样本不足\n",
    "\n",
    "\n",
    "wb=load_workbook(file_path)\n",
    "ws=wb.active\n",
    "\n",
    "last_row=ws.max_row+1\n",
    "ws.cell(row=last_row,column=1,value=\"p-value\")\n",
    "\n",
    "bold_font=Font(bold=True)\n",
    "yellow_fill=PatternFill(start_color=\"FFFF99\",end_color=\"FFFF99\",fill_type=\"solid\")\n",
    "\n",
    "for j,col in enumerate(df.columns,start=1):\n",
    "    cell=ws.cell(row=last_row,column=j,value=p_values[col])\n",
    "    cell.font=bold_font\n",
    "    cell.fill=yellow_fill\n",
    "\n",
    "label_cell=ws.cell(row=last_row,column=1)\n",
    "label_cell.font=bold_font\n",
    "label_cell.fill=yellow_fill\n",
    "\n",
    "#p_series=pd.Series(p_values,name=\"p-value\")\n",
    "#df=pd.concat([df,p_series.to_frame().T],ignore_index=False)\n",
    "#df.to_excel(\"match_data_with_pvalues.xlsx\",index=False)\n",
    "wb.save(\"match_data_with_pvalue.xlsx\")\n",
    "print(\"完成 ✅：p 值已写入最后一行，行名为 'p-value'，保存为 data_with_pvalues.xlsx\")"
   ]
  },
  {
   "cell_type": "code",
   "execution_count": 36,
   "id": "ccee110f-0eab-4e3d-bee9-c65cd3a7a808",
   "metadata": {
    "jupyter": {
     "source_hidden": true
    }
   },
   "outputs": [
    {
     "name": "stdout",
     "output_type": "stream",
     "text": [
      "完成 ✅：p 值已写入最后一行，行名为 'p-value'，保存为 data_with_pvalues.xlsx\n"
     ]
    }
   ],
   "source": [
    "import pandas as pd\n",
    "from scipy.stats import f_oneway\n",
    "from openpyxl import load_workbook\n",
    "from openpyxl.styles import Font,PatternFill\n",
    "import numpy as np\n",
    "\n",
    "file_path=\"data/all.xlsx\"\n",
    "\n",
    "df=pd.read_excel(file_path)\n",
    "df_numeric = df.apply(pd.to_numeric, errors='coerce')\n",
    "\n",
    "group1=df_numeric.iloc[1:14,:]\n",
    "group2=df_numeric.iloc[14:31,:]\n",
    "group3=df_numeric.iloc[31:59,:]\n",
    "\n",
    "\n",
    "'''      \n",
    "p_values={}\n",
    "for col in df.columns:\n",
    "    g1=group1[col].dropna()\n",
    "    g2=group2[col].dropna()\n",
    "    g3= group3[col].dropna()\n",
    "    if len(g1)>=2 and len(g2)>=2 and len(3)>=2:\n",
    "       f_stat,p_val=f_oneway(g1,g2,g3)\n",
    "       p_values[col]=round(p_val,5)\n",
    "    else: \n",
    "       p_values[col]=np.nan\n",
    "'''\n",
    "p_values = {}\n",
    "for col in df.columns:\n",
    "    # 强制取出为 Series\n",
    "    g1 = group1[[col]].squeeze().dropna()\n",
    "    g2 = group2[[col]].squeeze().dropna()\n",
    "    g3 = group3[[col]].squeeze().dropna()\n",
    "\n",
    "    # 判断每组至少有2个样本\n",
    "    if len(g1) >= 2 and len(g2) >= 2 and len(g3) >= 2:\n",
    "        f_stat, p_val = f_oneway(g1, g2, g3)\n",
    "        p_values[col] = round(p_val, 5)\n",
    "    else:\n",
    "        p_values[col] = np.nan  # 样本不足\n",
    "\n",
    "\n",
    "wb=load_workbook(file_path)\n",
    "ws=wb.active\n",
    "\n",
    "last_row=ws.max_row+1\n",
    "ws.cell(row=last_row,column=1,value=\"p-value\")\n",
    "\n",
    "bold_font=Font(bold=True)\n",
    "yellow_fill=PatternFill(start_color=\"FFFF99\",end_color=\"FFFF99\",fill_type=\"solid\")\n",
    "\n",
    "for j,col in enumerate(df.columns,start=1):\n",
    "    cell=ws.cell(row=last_row,column=j,value=p_values[col])\n",
    "    cell.font=bold_font\n",
    "    cell.fill=yellow_fill\n",
    "\n",
    "label_cell=ws.cell(row=last_row,column=1)\n",
    "label_cell.font=bold_font\n",
    "label_cell.fill=yellow_fill\n",
    "\n",
    "#p_series=pd.Series(p_values,name=\"p-value\")\n",
    "#df=pd.concat([df,p_series.to_frame().T],ignore_index=False)\n",
    "#df.to_excel(\"match_data_with_pvalues.xlsx\",index=False)\n",
    "wb.save(\"all_data_with_pvalue.xlsx\")\n",
    "print(\"完成 ✅：p 值已写入最后一行，行名为 'p-value'，保存为 data_with_pvalues.xlsx\")"
   ]
  },
  {
   "cell_type": "code",
   "execution_count": 40,
   "id": "784e4936-8edc-49d4-bb20-09cb3e08a5c3",
   "metadata": {
    "collapsed": true,
    "jupyter": {
     "outputs_hidden": true,
     "source_hidden": true
    }
   },
   "outputs": [
    {
     "name": "stdout",
     "output_type": "stream",
     "text": [
      "完成 ✅：p 值已写入最后一行，第1列显示 'p-value'，第3列开始是各列 p 值。\n"
     ]
    }
   ],
   "source": [
    "import pandas as pd\n",
    "from scipy.stats import f_oneway\n",
    "from openpyxl import load_workbook\n",
    "from openpyxl.styles import Font, PatternFill\n",
    "import numpy as np\n",
    "\n",
    "# 1️⃣ 读取 Excel 文件\n",
    "file_path = \"data/match.xlsx\"\n",
    "df = pd.read_excel(file_path)\n",
    "\n",
    "# 转为数值型，非数值填 NaN\n",
    "df_numeric = df.apply(pd.to_numeric, errors='coerce')\n",
    "\n",
    "# 2️⃣ 定义分组（Python 索引从 0 开始）\n",
    "group1 = df_numeric.iloc[1:14, :]   # 第2-14行\n",
    "group2 = df_numeric.iloc[14:31, :]  # 第15-31行\n",
    "group3 = df_numeric.iloc[31:59, :]  # 第32-59行\n",
    "\n",
    "# 3️⃣ 计算每列 p 值\n",
    "p_values = {}\n",
    "for col in df.columns:\n",
    "    g1 = group1[[col]].squeeze().dropna()\n",
    "    g2 = group2[[col]].squeeze().dropna()\n",
    "    g3 = group3[[col]].squeeze().dropna()\n",
    "\n",
    "    # 样本量至少为2才计算，否则为 NaN\n",
    "    if len(g1) >= 2 and len(g2) >= 2 and len(g3) >= 2:\n",
    "        f_stat, p_val = f_oneway(g1, g2, g3)\n",
    "        p_values[col] = round(p_val, 5)\n",
    "    else:\n",
    "        p_values[col] = np.nan\n",
    "\n",
    "# 4️⃣ 打开原始 Excel 文件\n",
    "wb = load_workbook(file_path)\n",
    "ws = wb.active\n",
    "\n",
    "# 5️⃣ 追加最后一行\n",
    "last_row = ws.max_row + 1\n",
    "\n",
    "# 第一列写 \"p-value\"\n",
    "ws.cell(row=last_row, column=1, value=\"p-value\")\n",
    "\n",
    "# 第二列保持空或原数据（根据需要可以留空）\n",
    "ws.cell(row=last_row, column=2, value=\"\")\n",
    "\n",
    "# 样式：加粗 + 黄色背景\n",
    "bold_font = Font(bold=True)\n",
    "yellow_fill = PatternFill(start_color=\"FFFF99\", end_color=\"FFFF99\", fill_type=\"solid\")\n",
    "\n",
    "# 从第3列开始写 p 值\n",
    "for j, col in enumerate(df.columns[2:], start=3):  # df.columns[2:] 表示第3列到最后一列\n",
    "    cell = ws.cell(row=last_row, column=j, value=p_values[col])\n",
    "    cell.font = bold_font\n",
    "    cell.fill = yellow_fill\n",
    "\n",
    "# 第一列和第二列也加样式\n",
    "ws.cell(row=last_row, column=1).font = bold_font\n",
    "ws.cell(row=last_row, column=1).fill = yellow_fill\n",
    "ws.cell(row=last_row, column=2).font = bold_font\n",
    "ws.cell(row=last_row, column=2).fill = yellow_fill\n",
    "\n",
    "# 6️⃣ 保存\n",
    "wb.save(\"match_data_with_pvalues.xlsx\")\n",
    "\n",
    "print(\"完成 ✅：p 值已写入最后一行，第1列显示 'p-value'，第3列开始是各列 p 值。\")\n"
   ]
  },
  {
   "cell_type": "code",
   "execution_count": 46,
   "id": "fda97d37-5e85-4408-8bd4-d8c282ccf9c4",
   "metadata": {},
   "outputs": [
    {
     "name": "stdout",
     "output_type": "stream",
     "text": [
      "完成 ✅：p 值已写入最后一行，第1列显示 'p-value'，第3列开始是各列 p 值。\n"
     ]
    }
   ],
   "source": [
    "import pandas as pd\n",
    "from scipy.stats import f_oneway\n",
    "from openpyxl import load_workbook\n",
    "from openpyxl.styles import Font, PatternFill\n",
    "import numpy as np\n",
    "\n",
    "# 1️⃣ 读取 Excel 文件\n",
    "file_path = \"data/all.xlsx\"\n",
    "df = pd.read_excel(file_path)\n",
    "\n",
    "# 转为数值型，非数值填 NaN\n",
    "df_numeric = df.apply(pd.to_numeric, errors='coerce')\n",
    "\n",
    "# 2️⃣ 定义分组（Python 索引从 0 开始）\n",
    "group1 = df_numeric.iloc[1:14, :]   # 第2-14行\n",
    "group2 = df_numeric.iloc[14:31, :]  # 第15-31行\n",
    "group3 = df_numeric.iloc[31:59, :]  # 第32-59行\n",
    "\n",
    "# 3️⃣ 计算每列 p 值\n",
    "p_values = {}\n",
    "for col in df.columns:\n",
    "    g1 = group1[[col]].squeeze().dropna()\n",
    "    g2 = group2[[col]].squeeze().dropna()\n",
    "    g3 = group3[[col]].squeeze().dropna()\n",
    "\n",
    "    # 样本量至少为2才计算，否则为 NaN\n",
    "    if len(g1) >= 2 and len(g2) >= 2 and len(g3) >= 2:\n",
    "        f_stat, p_val = f_oneway(g1, g2, g3)\n",
    "        p_values[col] = round(p_val, 5)\n",
    "    else:\n",
    "        p_values[col] = np.nan\n",
    "\n",
    "# 4️⃣ 打开原始 Excel 文件\n",
    "wb = load_workbook(file_path)\n",
    "ws = wb.active\n",
    "\n",
    "# 5️⃣ 追加最后一行\n",
    "last_row = ws.max_row + 1\n",
    "\n",
    "# 第一列写 \"p-value\"\n",
    "ws.cell(row=last_row, column=1, value=\"p-value\")\n",
    "\n",
    "# 第二列保持空或原数据（根据需要可以留空）\n",
    "ws.cell(row=last_row, column=2, value=\"\")\n",
    "\n",
    "# 样式：加粗 + 黄色背景\n",
    "bold_font = Font(bold=True)\n",
    "yellow_fill = PatternFill(start_color=\"FFFF99\", end_color=\"FFFF99\", fill_type=\"solid\")\n",
    "\n",
    "# 从第3列开始写 p 值\n",
    "for j, col in enumerate(df.columns[2:], start=3):  # df.columns[2:] 表示第3列到最后一列\n",
    "    cell = ws.cell(row=last_row, column=j, value=p_values[col])\n",
    "    cell.font = bold_font\n",
    "    cell.fill = yellow_fill\n",
    "\n",
    "# 第一列和第二列也加样式\n",
    "ws.cell(row=last_row, column=1).font = bold_font\n",
    "ws.cell(row=last_row, column=1).fill = yellow_fill\n",
    "ws.cell(row=last_row, column=2).font = bold_font\n",
    "ws.cell(row=last_row, column=2).fill = yellow_fill\n",
    "\n",
    "# 6️⃣ 保存\n",
    "wb.save(\"all_data_with_pvalues.xlsx\")\n",
    "\n",
    "print(\"完成 ✅：p 值已写入最后一行，第1列显示 'p-value'，第3列开始是各列 p 值。\")\n"
   ]
  },
  {
   "cell_type": "code",
   "execution_count": 40,
   "id": "b828d02d-b8a3-4f9c-91a6-c20f9a643c1a",
   "metadata": {
    "collapsed": true,
    "jupyter": {
     "outputs_hidden": true
    }
   },
   "outputs": [
    {
     "name": "stdout",
     "output_type": "stream",
     "text": [
      "完成 ✅：p 值已写入最后一行，第1列显示 'p-value'，第3列开始是各列 p 值。\n"
     ]
    }
   ],
   "source": [
    "import pandas as pd\n",
    "from scipy.stats import f_oneway\n",
    "from openpyxl import load_workbook\n",
    "from openpyxl.styles import Font, PatternFill\n",
    "import numpy as np\n",
    "\n",
    "# 1️⃣ 读取 Excel 文件\n",
    "file_path = \"data/match.xlsx\"\n",
    "df = pd.read_excel(file_path)\n",
    "\n",
    "# 转为数值型，非数值填 NaN\n",
    "df_numeric = df.apply(pd.to_numeric, errors='coerce')\n",
    "\n",
    "# 2️⃣ 定义分组（Python 索引从 0 开始）\n",
    "group1 = df_numeric.iloc[1:14, :]   # 第2-14行\n",
    "group2 = df_numeric.iloc[14:31, :]  # 第15-31行\n",
    "group3 = df_numeric.iloc[31:59, :]  # 第32-59行\n",
    "\n",
    "# 3️⃣ 计算每列 p 值\n",
    "p_values = {}\n",
    "for col in df.columns:\n",
    "    g1 = group1[[col]].squeeze().dropna()\n",
    "    g2 = group2[[col]].squeeze().dropna()\n",
    "    g3 = group3[[col]].squeeze().dropna()\n",
    "\n",
    "    # 样本量至少为2才计算，否则为 NaN\n",
    "    if len(g1) >= 2 and len(g2) >= 2 and len(g3) >= 2:\n",
    "        f_stat, p_val = f_oneway(g1, g2, g3)\n",
    "        p_values[col] = round(p_val, 5)\n",
    "    else:\n",
    "        p_values[col] = np.nan\n",
    "\n",
    "# 4️⃣ 打开原始 Excel 文件\n",
    "wb = load_workbook(file_path)\n",
    "ws = wb.active\n",
    "\n",
    "# 5️⃣ 追加最后一行\n",
    "last_row = ws.max_row + 1\n",
    "\n",
    "# 第一列写 \"p-value\"\n",
    "ws.cell(row=last_row, column=1, value=\"p-value\")\n",
    "\n",
    "# 第二列保持空或原数据（根据需要可以留空）\n",
    "ws.cell(row=last_row, column=2, value=\"\")\n",
    "\n",
    "# 样式：加粗 + 黄色背景\n",
    "bold_font = Font(bold=True)\n",
    "yellow_fill = PatternFill(start_color=\"FFFF99\", end_color=\"FFFF99\", fill_type=\"solid\")\n",
    "\n",
    "# 从第3列开始写 p 值\n",
    "for j, col in enumerate(df.columns[2:], start=3):  # df.columns[2:] 表示第3列到最后一列\n",
    "    cell = ws.cell(row=last_row, column=j, value=p_values[col])\n",
    "    cell.font = bold_font\n",
    "    cell.fill = yellow_fill\n",
    "\n",
    "# 第一列和第二列也加样式\n",
    "ws.cell(row=last_row, column=1).font = bold_font\n",
    "ws.cell(row=last_row, column=1).fill = yellow_fill\n",
    "ws.cell(row=last_row, column=2).font = bold_font\n",
    "ws.cell(row=last_row, column=2).fill = yellow_fill\n",
    "\n",
    "# 6️⃣ 保存\n",
    "wb.save(\"match_data_with_pvalues.xlsx\")\n",
    "\n",
    "print(\"完成 ✅：p 值已写入最后一行，第1列显示 'p-value'，第3列开始是各列 p 值。\")\n"
   ]
  },
  {
   "cell_type": "code",
   "execution_count": 47,
   "id": "688b2352-c2e0-4936-82b5-28e8e41a094f",
   "metadata": {},
   "outputs": [
    {
     "name": "stdout",
     "output_type": "stream",
     "text": [
      "完成 ✅：p 值已写入最后一行，第1列显示 'p-value'，第3列开始是各列 p 值。\n"
     ]
    }
   ],
   "source": [
    "#g1 和 g2\n",
    "import pandas as pd\n",
    "from scipy.stats import f_oneway\n",
    "from openpyxl import load_workbook\n",
    "from openpyxl.styles import Font, PatternFill\n",
    "import numpy as np\n",
    "\n",
    "# 1️⃣ 读取 Excel 文件\n",
    "file_path = \"all_data_with_pvalues.xlsx\"\n",
    "df = pd.read_excel(file_path)\n",
    "\n",
    "# 转为数值型，非数值填 NaN\n",
    "df_numeric = df.apply(pd.to_numeric, errors='coerce')\n",
    "\n",
    "# 2️⃣ 定义分组（Python 索引从 0 开始）\n",
    "group1 = df_numeric.iloc[1:14, :]   # 第2-14行\n",
    "group2 = df_numeric.iloc[14:31, :]  # 第15-31行\n",
    "#group3 = df_numeric.iloc[31:59, :]  # 第32-59行\n",
    "\n",
    "# 3️⃣ 计算每列 p 值\n",
    "p_values = {}\n",
    "for col in df.columns:\n",
    "    g1 = group1[[col]].squeeze().dropna()\n",
    "    g2 = group2[[col]].squeeze().dropna()\n",
    "    #g3 = group3[[col]].squeeze().dropna()\n",
    "\n",
    "    # 样本量至少为2才计算，否则为 NaN\n",
    "    if len(g1) >= 2 and len(g2) >= 2 :\n",
    "        f_stat, p_val = f_oneway(g1, g2)\n",
    "        p_values[col] = round(p_val, 5)\n",
    "    else:\n",
    "        p_values[col] = np.nan\n",
    "\n",
    "# 4️⃣ 打开原始 Excel 文件\n",
    "wb = load_workbook(file_path)\n",
    "ws = wb.active\n",
    "\n",
    "# 5️⃣ 追加最后一行\n",
    "last_row = ws.max_row + 1\n",
    "\n",
    "# 第一列写 \"p-value\"\n",
    "ws.cell(row=last_row, column=1, value=\"p-value\")\n",
    "\n",
    "# 第二列保持空或原数据（根据需要可以留空）\n",
    "ws.cell(row=last_row, column=2, value=\"\")\n",
    "\n",
    "# 样式：加粗 + 黄色背景\n",
    "bold_font = Font(bold=True)\n",
    "yellow_fill = PatternFill(start_color=\"FFFF99\", end_color=\"FFFF99\", fill_type=\"solid\")\n",
    "\n",
    "# 从第3列开始写 p 值\n",
    "for j, col in enumerate(df.columns[2:], start=3):  # df.columns[2:] 表示第3列到最后一列\n",
    "    cell = ws.cell(row=last_row, column=j, value=p_values[col])\n",
    "    cell.font = bold_font\n",
    "    cell.fill = yellow_fill\n",
    "\n",
    "# 第一列和第二列也加样式\n",
    "ws.cell(row=last_row, column=1).font = bold_font\n",
    "ws.cell(row=last_row, column=1).fill = yellow_fill\n",
    "ws.cell(row=last_row, column=2).font = bold_font\n",
    "ws.cell(row=last_row, column=2).fill = yellow_fill\n",
    "\n",
    "# 6️⃣ 保存\n",
    "wb.save(\"g1g2_all_data_with_pvalues.xlsx\")\n",
    "\n",
    "print(\"完成 ✅：p 值已写入最后一行，第1列显示 'p-value'，第3列开始是各列 p 值。\")\n"
   ]
  },
  {
   "cell_type": "code",
   "execution_count": 48,
   "id": "4b313832-6ebf-4a3d-b9e6-2d27f028a2e5",
   "metadata": {},
   "outputs": [
    {
     "name": "stdout",
     "output_type": "stream",
     "text": [
      "完成 ✅：p 值已写入最后一行，第1列显示 'p-value'，第3列开始是各列 p 值。\n"
     ]
    }
   ],
   "source": [
    "#g1 和 g3\n",
    "import pandas as pd\n",
    "from scipy.stats import f_oneway\n",
    "from openpyxl import load_workbook\n",
    "from openpyxl.styles import Font, PatternFill\n",
    "import numpy as np\n",
    "\n",
    "# 1️⃣ 读取 Excel 文件\n",
    "file_path = \"g1g2_all_data_with_pvalues.xlsx\"\n",
    "df = pd.read_excel(file_path)\n",
    "\n",
    "# 转为数值型，非数值填 NaN\n",
    "df_numeric = df.apply(pd.to_numeric, errors='coerce')\n",
    "\n",
    "# 2️⃣ 定义分组（Python 索引从 0 开始）\n",
    "group1 = df_numeric.iloc[1:14, :]   # 第2-14行\n",
    "#group2 = df_numeric.iloc[14:31, :]  # 第15-31行\n",
    "group3 = df_numeric.iloc[31:59, :]  # 第32-59行\n",
    "\n",
    "# 3️⃣ 计算每列 p 值\n",
    "p_values = {}\n",
    "for col in df.columns:\n",
    "    g1 = group1[[col]].squeeze().dropna()\n",
    "    #g2 = group2[[col]].squeeze().dropna()\n",
    "    g3 = group3[[col]].squeeze().dropna()\n",
    "\n",
    "    # 样本量至少为2才计算，否则为 NaN\n",
    "    if len(g1) >= 2 and len(g3) >= 2 :\n",
    "        f_stat, p_val = f_oneway(g1, g3)\n",
    "        p_values[col] = round(p_val, 5)\n",
    "    else:\n",
    "        p_values[col] = np.nan\n",
    "\n",
    "# 4️⃣ 打开原始 Excel 文件\n",
    "wb = load_workbook(file_path)\n",
    "ws = wb.active\n",
    "\n",
    "# 5️⃣ 追加最后一行\n",
    "last_row = ws.max_row + 1\n",
    "\n",
    "# 第一列写 \"p-value\"\n",
    "ws.cell(row=last_row, column=1, value=\"p-value\")\n",
    "\n",
    "# 第二列保持空或原数据（根据需要可以留空）\n",
    "ws.cell(row=last_row, column=2, value=\"\")\n",
    "\n",
    "# 样式：加粗 + 黄色背景\n",
    "bold_font = Font(bold=True)\n",
    "yellow_fill = PatternFill(start_color=\"FFFF99\", end_color=\"FFFF99\", fill_type=\"solid\")\n",
    "\n",
    "# 从第3列开始写 p 值\n",
    "for j, col in enumerate(df.columns[2:], start=3):  # df.columns[2:] 表示第3列到最后一列\n",
    "    cell = ws.cell(row=last_row, column=j, value=p_values[col])\n",
    "    cell.font = bold_font\n",
    "    cell.fill = yellow_fill\n",
    "\n",
    "# 第一列和第二列也加样式\n",
    "ws.cell(row=last_row, column=1).font = bold_font\n",
    "ws.cell(row=last_row, column=1).fill = yellow_fill\n",
    "ws.cell(row=last_row, column=2).font = bold_font\n",
    "ws.cell(row=last_row, column=2).fill = yellow_fill\n",
    "\n",
    "# 6️⃣ 保存\n",
    "wb.save(\"g1g3_all_data_with_pvalues.xlsx\")\n",
    "\n",
    "print(\"完成 ✅：p 值已写入最后一行，第1列显示 'p-value'，第3列开始是各列 p 值。\")\n"
   ]
  },
  {
   "cell_type": "code",
   "execution_count": 49,
   "id": "bc0be092-da76-456e-a387-b33b10b36307",
   "metadata": {},
   "outputs": [
    {
     "name": "stdout",
     "output_type": "stream",
     "text": [
      "完成 ✅：p 值已写入最后一行，第1列显示 'p-value'，第3列开始是各列 p 值。\n"
     ]
    }
   ],
   "source": [
    "#g2 和 g3\n",
    "import pandas as pd\n",
    "from scipy.stats import f_oneway\n",
    "from openpyxl import load_workbook\n",
    "from openpyxl.styles import Font, PatternFill\n",
    "import numpy as np\n",
    "\n",
    "# 1️⃣ 读取 Excel 文件\n",
    "file_path = \"g1g3_all_data_with_pvalues.xlsx\"\n",
    "df = pd.read_excel(file_path)\n",
    "\n",
    "# 转为数值型，非数值填 NaN\n",
    "df_numeric = df.apply(pd.to_numeric, errors='coerce')\n",
    "\n",
    "# 2️⃣ 定义分组（Python 索引从 0 开始）\n",
    "#group1 = df_numeric.iloc[1:14, :]   # 第2-14行\n",
    "group2 = df_numeric.iloc[14:31, :]  # 第15-31行\n",
    "group3 = df_numeric.iloc[31:59, :]  # 第32-59行\n",
    "\n",
    "# 3️⃣ 计算每列 p 值\n",
    "p_values = {}\n",
    "for col in df.columns:\n",
    "    g1 = group1[[col]].squeeze().dropna()\n",
    "    #g2 = group2[[col]].squeeze().dropna()\n",
    "    g3 = group3[[col]].squeeze().dropna()\n",
    "\n",
    "    # 样本量至少为2才计算，否则为 NaN\n",
    "    if len(g2) >= 2 and len(g3) >= 2 :\n",
    "        f_stat, p_val = f_oneway(g2, g3)\n",
    "        p_values[col] = round(p_val, 5)\n",
    "    else:\n",
    "        p_values[col] = np.nan\n",
    "\n",
    "# 4️⃣ 打开原始 Excel 文件\n",
    "wb = load_workbook(file_path)\n",
    "ws = wb.active\n",
    "\n",
    "# 5️⃣ 追加最后一行\n",
    "last_row = ws.max_row + 1\n",
    "\n",
    "# 第一列写 \"p-value\"\n",
    "ws.cell(row=last_row, column=1, value=\"p-value\")\n",
    "\n",
    "# 第二列保持空或原数据（根据需要可以留空）\n",
    "ws.cell(row=last_row, column=2, value=\"\")\n",
    "\n",
    "# 样式：加粗 + 黄色背景\n",
    "bold_font = Font(bold=True)\n",
    "yellow_fill = PatternFill(start_color=\"FFFF99\", end_color=\"FFFF99\", fill_type=\"solid\")\n",
    "\n",
    "# 从第3列开始写 p 值\n",
    "for j, col in enumerate(df.columns[2:], start=3):  # df.columns[2:] 表示第3列到最后一列\n",
    "    cell = ws.cell(row=last_row, column=j, value=p_values[col])\n",
    "    cell.font = bold_font\n",
    "    cell.fill = yellow_fill\n",
    "\n",
    "# 第一列和第二列也加样式\n",
    "ws.cell(row=last_row, column=1).font = bold_font\n",
    "ws.cell(row=last_row, column=1).fill = yellow_fill\n",
    "ws.cell(row=last_row, column=2).font = bold_font\n",
    "ws.cell(row=last_row, column=2).fill = yellow_fill\n",
    "\n",
    "# 6️⃣ 保存\n",
    "wb.save(\"g2g3_all_data_with_pvalues.xlsx\")\n",
    "\n",
    "print(\"完成 ✅：p 值已写入最后一行，第1列显示 'p-value'，第3列开始是各列 p 值。\")\n"
   ]
  },
  {
   "cell_type": "code",
   "execution_count": null,
   "id": "71de4057-6f6f-431c-a99c-37aa924effbf",
   "metadata": {},
   "outputs": [],
   "source": []
  }
 ],
 "metadata": {
  "kernelspec": {
   "display_name": "Python [conda env:base] *",
   "language": "python",
   "name": "conda-base-py"
  },
  "language_info": {
   "codemirror_mode": {
    "name": "ipython",
    "version": 3
   },
   "file_extension": ".py",
   "mimetype": "text/x-python",
   "name": "python",
   "nbconvert_exporter": "python",
   "pygments_lexer": "ipython3",
   "version": "3.13.5"
  }
 },
 "nbformat": 4,
 "nbformat_minor": 5
}
